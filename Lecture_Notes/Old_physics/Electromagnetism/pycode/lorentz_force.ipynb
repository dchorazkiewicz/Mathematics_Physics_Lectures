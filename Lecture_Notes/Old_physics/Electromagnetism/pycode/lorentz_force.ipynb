{
 "cells": [
  {
   "cell_type": "code",
   "execution_count": 12,
   "metadata": {},
   "outputs": [],
   "source": [
    "# setup a system\n",
    "q = 1 # charge of the particle\n",
    "m = 1 # mass of the particle\n",
    "x0,y0,z0 = 0,0,0  # initial position\n",
    "vx0,vy0,vz0 = 0,0,0 # initial velocity"
   ]
  },
  {
   "cell_type": "code",
   "execution_count": 13,
   "metadata": {},
   "outputs": [],
   "source": [
    "# Lorentz force function\n",
    "\n",
    "# The cross product of two vectors A=(Ax,Ay,Az) and B=(Bx,By,Bz) is given by the formula:\n",
    "# A x B = (AyBz - AzBy, AzBx - AxBz, AxBy - AyBx)\n",
    "\n",
    "# The velocity vector of the particle is given by the formula:\n",
    "# v = (vx,vy,vz)\n",
    "\n",
    "# The magnetic field vector is given by the formula:\n",
    "\n",
    "# B = (Bx,By,Bz)\n",
    "\n",
    "# The force on the particle is given by the formula:\n",
    "# F = q(v x B)= q(vyBz - vzBy, vzBx - vxBz, vxBz - vyBx)\n",
    "\n",
    "# The acceleration of the particle is given by the formula:\n",
    "# a = F/m = q/m(v x B)\n",
    "\n",
    "# The position of the particle is given by the formula:\n",
    "\n",
    "def lorentz_force(q,m,vx,vy,vz,Bx,By,Bz):\n",
    "    Fx = q*(vy*Bz - vz*By)\n",
    "    Fy = q*(vz*Bx - vx*Bz)\n",
    "    Fz = q*(vx*By - vy*Bx)\n",
    "    return Fx/m,Fy/m,Fz/m\n",
    "\n"
   ]
  },
  {
   "cell_type": "code",
   "execution_count": 15,
   "metadata": {},
   "outputs": [
    {
     "data": {
      "image/png": "[encoded data removed]",
      "text/plain": [
       "<Figure size 640x480 with 1 Axes>"
      ]
     },
     "metadata": {},
     "output_type": "display_data"
    }
   ],
   "source": [
    "# Simplest case: constant magnetic field in the z direction and initial velocity in the x direction\n",
    "\n",
    "# The magnetic field vector is given by the formula:\n",
    "Bx,By,Bz = 0,0,1\n",
    "\n",
    "# The velocity vector of the particle is given by the formula:\n",
    "vx,vy,vz = 1,0,0\n",
    "\n",
    "# We will use the Euler method to solve the differential equation\n",
    "\n",
    "# Using the Euler method, the position of the particle at time t+dt is given by the formula:\n",
    "\n",
    "# x(t+dt) = x(t) + vx(t)dt\n",
    "# y(t+dt) = y(t) + vy(t)dt\n",
    "# z(t+dt) = z(t) + vz(t)dt\n",
    "\n",
    "# The velocity of the particle at time t+dt is given by the formula:\n",
    "\n",
    "# vx(t+dt) = vx(t) + ax(t)dt\n",
    "# vy(t+dt) = vy(t) + ay(t)dt\n",
    "# vz(t+dt) = vz(t) + az(t)dt\n",
    "\n",
    "\n",
    "# The acceleration of the particle is given by the formula:\n",
    "# ax = Fx/m\n",
    "# ay = Fy/m\n",
    "# az = Fz/m\n",
    "\n",
    "# Euler method\n",
    "\n",
    "import numpy as np\n",
    "import matplotlib.pyplot as plt\n",
    "\n",
    "# Initial conditions\n",
    "t = 0\n",
    "dt = 0.01\n",
    "x,y,z = x0,y0,z0\n",
    "vx,vy,vz = 1,0,0\n",
    "\n",
    "for i in range(500):\n",
    "    ax,ay,az = lorentz_force(q,m,vx,vy,vz,Bx,By,Bz)\n",
    "    x += vx*dt\n",
    "    y += vy*dt\n",
    "    z += vz*dt\n",
    "    vx += ax*dt\n",
    "    vy += ay*dt\n",
    "    vz += az*dt\n",
    "    t += dt\n",
    "    #ratio axis equal\n",
    "    plt.axis('equal')\n",
    "    plt.plot(x,y,'r*')\n",
    "\n",
    "plt.show()\n"
   ]
  },
  {
   "cell_type": "code",
   "execution_count": null,
   "metadata": {},
   "outputs": [],
   "source": []
  }
 ],
 "metadata": {
  "kernelspec": {
   "display_name": "Python 3",
   "language": "python",
   "name": "python3"
  },
  "language_info": {
   "codemirror_mode": {
    "name": "ipython",
    "version": 3
   },
   "file_extension": ".py",
   "mimetype": "text/x-python",
   "name": "python",
   "nbconvert_exporter": "python",
   "pygments_lexer": "ipython3",
   "version": "3.11.9"
  }
 },
 "nbformat": 4,
 "nbformat_minor": 2
}
