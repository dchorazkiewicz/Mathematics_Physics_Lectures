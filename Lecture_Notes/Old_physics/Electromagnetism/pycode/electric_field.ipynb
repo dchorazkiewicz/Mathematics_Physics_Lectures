{
 "cells": [
  {
   "cell_type": "code",
   "execution_count": null,
   "metadata": {},
   "outputs": [],
   "source": [
    "import numpy as np\n",
    "import matplotlib.pyplot as plt\n",
    "\n",
    "def electric_field_from_one_charge(charge: float, position: np.array, \n",
    "    \"\"\"\n",
    "    Calculate the electric field from a charge at a given position\n",
    "    \"\"\"\n",
    "    k = 8.9875517873681764e9\n",
    "    r = field_position - position\n",
    "    r_magnitude = np.linalg.norm(r)\n",
    "    r_hat = r / r_magnitude\n",
    "    return k * charge * r_hat / r_magnitude**2\n",
    "\n"
   ]
  }
 ],
 "metadata": {
  "language_info": {
   "name": "python"
  }
 },
 "nbformat": 4,
 "nbformat_minor": 2
}
